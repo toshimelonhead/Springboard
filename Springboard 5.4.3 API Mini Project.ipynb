{
 "cells": [
  {
   "cell_type": "markdown",
   "metadata": {},
   "source": [
    "This exercise will require you to pull some data from the Quandl API. Quandl is currently the most widely used aggregator of financial market data."
   ]
  },
  {
   "cell_type": "markdown",
   "metadata": {},
   "source": [
    "As a first step, you will need to register a free account on the http://www.quandl.com website."
   ]
  },
  {
   "cell_type": "markdown",
   "metadata": {},
   "source": [
    "After you register, you will be provided with a unique API key, that you should store:"
   ]
  },
  {
   "cell_type": "code",
   "execution_count": 3,
   "metadata": {},
   "outputs": [],
   "source": [
    "# Store the API key as a string - according to PEP8, constants are always named in all upper case\n",
    "API_KEY =''"
   ]
  },
  {
   "cell_type": "markdown",
   "metadata": {},
   "source": [
    "Qaundl has a large number of data sources, but, unfortunately, most of them require a Premium subscription. Still, there are also a good number of free datasets."
   ]
  },
  {
   "cell_type": "markdown",
   "metadata": {},
   "source": [
    "For this mini project, we will focus on equities data from the Frankfurt Stock Exhange (FSE), which is available for free. We'll try and analyze the stock prices of a company called Carl Zeiss Meditec, which manufactures tools for eye examinations, as well as medical lasers for laser eye surgery: https://www.zeiss.com/meditec/int/home.html. The company is listed under the stock ticker AFX_X."
   ]
  },
  {
   "cell_type": "markdown",
   "metadata": {},
   "source": [
    "You can find the detailed Quandl API instructions here: https://docs.quandl.com/docs/time-series"
   ]
  },
  {
   "cell_type": "markdown",
   "metadata": {},
   "source": [
    "While there is a dedicated Python package for connecting to the Quandl API, we would prefer that you use the *requests* package, which can be easily downloaded using *pip* or *conda*. You can find the documentation for the package here: http://docs.python-requests.org/en/master/ "
   ]
  },
  {
   "cell_type": "markdown",
   "metadata": {},
   "source": [
    "Finally, apart from the *requests* package, you are encouraged to not use any third party Python packages, such as *pandas*, and instead focus on what's available in the Python Standard Library (the *collections* module might come in handy: https://pymotw.com/3/collections/).\n",
    "Also, since you won't have access to DataFrames, you are encouraged to us Python's native data structures - preferably dictionaries, though some questions can also be answered using lists.\n",
    "You can read more on these data structures here: https://docs.python.org/3/tutorial/datastructures.html"
   ]
  },
  {
   "cell_type": "markdown",
   "metadata": {},
   "source": [
    "Keep in mind that the JSON responses you will be getting from the API map almost one-to-one to Python's dictionaries. Unfortunately, they can be very nested, so make sure you read up on indexing dictionaries in the documentation provided above."
   ]
  },
  {
   "cell_type": "code",
   "execution_count": 4,
   "metadata": {},
   "outputs": [],
   "source": [
    "# First, import the relevant modules\n",
    "import requests\n",
    "import json"
   ]
  },
  {
   "cell_type": "code",
   "execution_count": 5,
   "metadata": {},
   "outputs": [],
   "source": [
    "# Now, call the Quandl API and pull out a small sample of the data (only one day) to get a glimpse\n",
    "# into the JSON structure that will be returned\n",
    "url = \"\".join((\"https://www.quandl.com/api/v3/datasets/FSE/AFX_X/data.json?api_key=\", API_KEY))\n",
    "r = requests.get(url)"
   ]
  },
  {
   "cell_type": "code",
   "execution_count": 6,
   "metadata": {},
   "outputs": [],
   "source": [
    "# Inspect the JSON structure of the object you created, and take note of how nested it is,\n",
    "# as well as the overall structure\n",
    "# print(r.json()['dataset_data']['column_names'])"
   ]
  },
  {
   "cell_type": "markdown",
   "metadata": {},
   "source": [
    "These are your tasks for this mini project:\n",
    "\n",
    "1. Collect data from the Franfurt Stock Exchange, for the ticker AFX_X, for the whole year 2017 (keep in mind that the date format is YYYY-MM-DD).\n",
    "2. Convert the returned JSON object into a Python dictionary.\n",
    "3. Calculate what the highest and lowest opening prices were for the stock in this period.\n",
    "4. What was the largest change in any one day (based on High and Low price)?\n",
    "5. What was the largest change between any two days (based on Closing Price)?\n",
    "6. What was the average daily trading volume during this year?\n",
    "7. (Optional) What was the median trading volume during this year. (Note: you may need to implement your own function for calculating the median.)"
   ]
  },
  {
   "cell_type": "markdown",
   "metadata": {},
   "source": [
    "### 1.) Collect data from the Franfurt Stock Exchange, for the ticker AFX_X, for the whole year 2017 (keep in mind that the date format is YYYY-MM-DD)."
   ]
  },
  {
   "cell_type": "code",
   "execution_count": 7,
   "metadata": {},
   "outputs": [],
   "source": [
    "afx_x = list()\n",
    "for i in range(len(r.json()['dataset_data']['data'])):\n",
    "    if r.json()['dataset_data']['data'][i][0][0:4] == '2017':\n",
    "        afx_x.append(r.json()['dataset_data']['data'][i])              "
   ]
  },
  {
   "cell_type": "markdown",
   "metadata": {},
   "source": [
    "### 2.) Convert the returned JSON object into a Python dictionary."
   ]
  },
  {
   "cell_type": "code",
   "execution_count": 8,
   "metadata": {},
   "outputs": [],
   "source": [
    "stockdata = dict()\n",
    "for i in range(len(r.json()['dataset_data']['data'])):\n",
    "    if r.json()['dataset_data']['data'][i][0][0:4] == '2017':\n",
    "        date = r.json()['dataset_data']['data'][i][0]\n",
    "        stockdata[date] = dict()\n",
    "        stockdata[date]['Open'] = r.json()['dataset_data']['data'][i][1]\n",
    "        stockdata[date]['High'] = r.json()['dataset_data']['data'][i][2]\n",
    "        stockdata[date]['Low'] = r.json()['dataset_data']['data'][i][3]\n",
    "        stockdata[date]['Close'] = r.json()['dataset_data']['data'][i][4]\n",
    "        stockdata[date]['Change'] = r.json()['dataset_data']['data'][i][5]\n",
    "        stockdata[date]['Trading Volume'] = r.json()['dataset_data']['data'][i][6]\n",
    "        stockdata[date]['Turnover'] = r.json()['dataset_data']['data'][i][7]\n",
    "        stockdata[date]['Last Price of the Day'] = r.json()['dataset_data']['data'][i][8]\n",
    "        stockdata[date]['Daily Traded Units'] = r.json()['dataset_data']['data'][i][9]\n",
    "        stockdata[date]['Daily Turnover'] = r.json()['dataset_data']['data'][i][10]"
   ]
  },
  {
   "cell_type": "markdown",
   "metadata": {},
   "source": [
    "### 3.) Calculate what the highest and lowest opening prices were for the stock in this period."
   ]
  },
  {
   "cell_type": "code",
   "execution_count": 9,
   "metadata": {},
   "outputs": [],
   "source": [
    "# Is there a cleaner way to do this?\n",
    "periodhigh = 0\n",
    "periodlow = 1e99\n",
    "for key in stockdata:\n",
    "    if(stockdata[key]['High'] > periodhigh):\n",
    "        periodhigh = stockdata[key]['High']\n",
    "    if(stockdata[key]['Low'] < periodlow):\n",
    "        periodlow = stockdata[key]['Low']"
   ]
  },
  {
   "cell_type": "code",
   "execution_count": 10,
   "metadata": {},
   "outputs": [
    {
     "name": "stdout",
     "output_type": "stream",
     "text": [
      "High: 53.54 \n",
      "Low: 33.62\n"
     ]
    }
   ],
   "source": [
    "print(\"High:\", periodhigh,'\\nLow:', periodlow)"
   ]
  },
  {
   "cell_type": "markdown",
   "metadata": {},
   "source": [
    "### 4.) What was the largest change in any one day (based on High and Low price)?"
   ]
  },
  {
   "cell_type": "code",
   "execution_count": 11,
   "metadata": {},
   "outputs": [
    {
     "name": "stdout",
     "output_type": "stream",
     "text": [
      "2.81\n"
     ]
    }
   ],
   "source": [
    "largestchange = 0\n",
    "for key in stockdata:\n",
    "    dailychange = stockdata[key]['High'] - stockdata[key]['Low']\n",
    "    if dailychange > largestchange:\n",
    "        largestchange = dailychange\n",
    "print(round(largestchange, 2))        "
   ]
  },
  {
   "cell_type": "markdown",
   "metadata": {},
   "source": [
    "### 5.) What was the largest change between any two days (based on Closing Price)?"
   ]
  },
  {
   "cell_type": "code",
   "execution_count": 23,
   "metadata": {},
   "outputs": [
    {
     "name": "stdout",
     "output_type": "stream",
     "text": [
      "2.56\n"
     ]
    }
   ],
   "source": [
    "closelist = []\n",
    "maxclose = -1e99\n",
    "for key in stockdata:\n",
    "    closelist.append(stockdata[key]['Close'])\n",
    "i = 0\n",
    "for i in range(len(closelist)):\n",
    "    if i > 0:\n",
    "        if closelist[i] - closelist[i-1] > maxclose:\n",
    "            maxclose = closelist[i] - closelist[i - 1]\n",
    "print(round(maxclose, 2))            "
   ]
  },
  {
   "cell_type": "markdown",
   "metadata": {},
   "source": [
    "### 6.) What was the average daily trading volume during this year?"
   ]
  },
  {
   "cell_type": "code",
   "execution_count": 13,
   "metadata": {},
   "outputs": [
    {
     "name": "stdout",
     "output_type": "stream",
     "text": [
      "89124.0\n"
     ]
    }
   ],
   "source": [
    "totalvolume = 0\n",
    "totaldays = 0\n",
    "for key in stockdata:\n",
    "    totalvolume += stockdata[key]['Trading Volume']\n",
    "    totaldays += 1\n",
    "print(round(totalvolume / totaldays, 0))    "
   ]
  },
  {
   "cell_type": "markdown",
   "metadata": {},
   "source": [
    "### 7.) (Optional) What was the median trading volume during this year? (Note: you may need to implement your own function for calculating the median.)"
   ]
  },
  {
   "cell_type": "code",
   "execution_count": 14,
   "metadata": {},
   "outputs": [
    {
     "name": "stdout",
     "output_type": "stream",
     "text": [
      "76600.0\n"
     ]
    }
   ],
   "source": [
    "dailyvolume = []\n",
    "for key in stockdata:\n",
    "    dailyvolume.append(stockdata[key]['Trading Volume'])\n",
    "dailyvolume.sort()\n",
    "median = dailyvolume[int(round(len(dailyvolume) / 2))]\n",
    "print(median)"
   ]
  },
  {
   "cell_type": "code",
   "execution_count": null,
   "metadata": {},
   "outputs": [],
   "source": []
  }
 ],
 "metadata": {
  "kernelspec": {
   "display_name": "Python 3",
   "language": "python",
   "name": "python3"
  },
  "language_info": {
   "codemirror_mode": {
    "name": "ipython",
    "version": 3
   },
   "file_extension": ".py",
   "mimetype": "text/x-python",
   "name": "python",
   "nbconvert_exporter": "python",
   "pygments_lexer": "ipython3",
   "version": "3.6.3"
  }
 },
 "nbformat": 4,
 "nbformat_minor": 2
}
