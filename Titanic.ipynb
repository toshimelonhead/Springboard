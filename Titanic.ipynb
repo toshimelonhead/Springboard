{
 "cells": [
  {
   "cell_type": "markdown",
   "metadata": {},
   "source": [
    "# Titanic Survival Prediction"
   ]
  },
  {
   "cell_type": "markdown",
   "metadata": {},
   "source": []
  },
  {
   "cell_type": "code",
   "execution_count": 164,
   "metadata": {},
   "outputs": [],
   "source": [
    "import pandas as pd # Pandas for data frames\n",
    "import numpy as np # Standard\n",
    "import seaborn as sns # Data visualization\n",
    "import matplotlib.pyplot as plt # Plotting\n",
    "import sklearn # Machine learning library\n",
    "import sklearn.preprocessing as preprocess # Preprocessing nulls"
   ]
  },
  {
   "cell_type": "markdown",
   "metadata": {},
   "source": [
    "Read data file in from a CSV:"
   ]
  },
  {
   "cell_type": "code",
   "execution_count": 165,
   "metadata": {},
   "outputs": [],
   "source": [
    "train = pd.read_csv(\"C:\\\\Users\\\\Tom\\\\Documents\\\\Titanic\\\\train.csv\") # Read in training dataset\n",
    "test = pd.read_csv(\"C:\\\\Users\\\\Tom\\\\Documents\\\\Titanic\\\\test.csv\") # Read in testing dataset"
   ]
  },
  {
   "cell_type": "markdown",
   "metadata": {},
   "source": [
    "Before doing any type of modeling, I want to take a look at the dataset. The key variable here is \"Survived\". Other variables that might be useful are sex, Age, sibsp (sibling or spouse), parch (parent or child), fare price, and destination embarked (C = Cherbourg, Q = Queenstown, S = Southampton). "
   ]
  },
  {
   "cell_type": "code",
   "execution_count": 166,
   "metadata": {
    "scrolled": true
   },
   "outputs": [
    {
     "data": {
      "text/html": [
       "<div>\n",
       "<style scoped>\n",
       "    .dataframe tbody tr th:only-of-type {\n",
       "        vertical-align: middle;\n",
       "    }\n",
       "\n",
       "    .dataframe tbody tr th {\n",
       "        vertical-align: top;\n",
       "    }\n",
       "\n",
       "    .dataframe thead th {\n",
       "        text-align: right;\n",
       "    }\n",
       "</style>\n",
       "<table border=\"1\" class=\"dataframe\">\n",
       "  <thead>\n",
       "    <tr style=\"text-align: right;\">\n",
       "      <th></th>\n",
       "      <th>PassengerId</th>\n",
       "      <th>Pclass</th>\n",
       "      <th>Name</th>\n",
       "      <th>Sex</th>\n",
       "      <th>Age</th>\n",
       "      <th>SibSp</th>\n",
       "      <th>Parch</th>\n",
       "      <th>Ticket</th>\n",
       "      <th>Fare</th>\n",
       "      <th>Cabin</th>\n",
       "      <th>Embarked</th>\n",
       "    </tr>\n",
       "  </thead>\n",
       "  <tbody>\n",
       "    <tr>\n",
       "      <th>0</th>\n",
       "      <td>892</td>\n",
       "      <td>3</td>\n",
       "      <td>Kelly, Mr. James</td>\n",
       "      <td>male</td>\n",
       "      <td>34.5</td>\n",
       "      <td>0</td>\n",
       "      <td>0</td>\n",
       "      <td>330911</td>\n",
       "      <td>7.8292</td>\n",
       "      <td>NaN</td>\n",
       "      <td>Q</td>\n",
       "    </tr>\n",
       "    <tr>\n",
       "      <th>1</th>\n",
       "      <td>893</td>\n",
       "      <td>3</td>\n",
       "      <td>Wilkes, Mrs. James (Ellen Needs)</td>\n",
       "      <td>female</td>\n",
       "      <td>47.0</td>\n",
       "      <td>1</td>\n",
       "      <td>0</td>\n",
       "      <td>363272</td>\n",
       "      <td>7.0000</td>\n",
       "      <td>NaN</td>\n",
       "      <td>S</td>\n",
       "    </tr>\n",
       "    <tr>\n",
       "      <th>2</th>\n",
       "      <td>894</td>\n",
       "      <td>2</td>\n",
       "      <td>Myles, Mr. Thomas Francis</td>\n",
       "      <td>male</td>\n",
       "      <td>62.0</td>\n",
       "      <td>0</td>\n",
       "      <td>0</td>\n",
       "      <td>240276</td>\n",
       "      <td>9.6875</td>\n",
       "      <td>NaN</td>\n",
       "      <td>Q</td>\n",
       "    </tr>\n",
       "    <tr>\n",
       "      <th>3</th>\n",
       "      <td>895</td>\n",
       "      <td>3</td>\n",
       "      <td>Wirz, Mr. Albert</td>\n",
       "      <td>male</td>\n",
       "      <td>27.0</td>\n",
       "      <td>0</td>\n",
       "      <td>0</td>\n",
       "      <td>315154</td>\n",
       "      <td>8.6625</td>\n",
       "      <td>NaN</td>\n",
       "      <td>S</td>\n",
       "    </tr>\n",
       "    <tr>\n",
       "      <th>4</th>\n",
       "      <td>896</td>\n",
       "      <td>3</td>\n",
       "      <td>Hirvonen, Mrs. Alexander (Helga E Lindqvist)</td>\n",
       "      <td>female</td>\n",
       "      <td>22.0</td>\n",
       "      <td>1</td>\n",
       "      <td>1</td>\n",
       "      <td>3101298</td>\n",
       "      <td>12.2875</td>\n",
       "      <td>NaN</td>\n",
       "      <td>S</td>\n",
       "    </tr>\n",
       "  </tbody>\n",
       "</table>\n",
       "</div>"
      ],
      "text/plain": [
       "   PassengerId  Pclass                                          Name     Sex  \\\n",
       "0          892       3                              Kelly, Mr. James    male   \n",
       "1          893       3              Wilkes, Mrs. James (Ellen Needs)  female   \n",
       "2          894       2                     Myles, Mr. Thomas Francis    male   \n",
       "3          895       3                              Wirz, Mr. Albert    male   \n",
       "4          896       3  Hirvonen, Mrs. Alexander (Helga E Lindqvist)  female   \n",
       "\n",
       "    Age  SibSp  Parch   Ticket     Fare Cabin Embarked  \n",
       "0  34.5      0      0   330911   7.8292   NaN        Q  \n",
       "1  47.0      1      0   363272   7.0000   NaN        S  \n",
       "2  62.0      0      0   240276   9.6875   NaN        Q  \n",
       "3  27.0      0      0   315154   8.6625   NaN        S  \n",
       "4  22.0      1      1  3101298  12.2875   NaN        S  "
      ]
     },
     "execution_count": 166,
     "metadata": {},
     "output_type": "execute_result"
    }
   ],
   "source": [
    "train.head()\n",
    "test.head()"
   ]
  },
  {
   "cell_type": "markdown",
   "metadata": {},
   "source": [
    "I also want to check for null values. In this case, most of the nulls are in age (177) and cabin (687)."
   ]
  },
  {
   "cell_type": "code",
   "execution_count": 167,
   "metadata": {},
   "outputs": [
    {
     "data": {
      "text/plain": [
       "PassengerId      0\n",
       "Survived         0\n",
       "Pclass           0\n",
       "Name             0\n",
       "Sex              0\n",
       "Age            177\n",
       "SibSp            0\n",
       "Parch            0\n",
       "Ticket           0\n",
       "Fare             0\n",
       "Cabin          687\n",
       "Embarked         2\n",
       "dtype: int64"
      ]
     },
     "execution_count": 167,
     "metadata": {},
     "output_type": "execute_result"
    }
   ],
   "source": [
    "train.isnull().sum()"
   ]
  },
  {
   "cell_type": "markdown",
   "metadata": {},
   "source": [
    "I could drop cabin, but there is some nice information there. First, I want to check to see if cabin is redundant with passenger class. For example, if all first class passengers had cabins and only first class passengers had cabins, I could drop cabin as a column. "
   ]
  },
  {
   "cell_type": "code",
   "execution_count": 168,
   "metadata": {},
   "outputs": [
    {
     "data": {
      "text/plain": [
       "Pclass\n",
       "1     40\n",
       "2    168\n",
       "3    479\n",
       "dtype: int64"
      ]
     },
     "execution_count": 168,
     "metadata": {},
     "output_type": "execute_result"
    }
   ],
   "source": [
    "# Grouped nulls by passenger class to see if all first class had cabins.\n",
    "train[train['Cabin'].isnull()].groupby('Pclass').size()"
   ]
  },
  {
   "cell_type": "code",
   "execution_count": 169,
   "metadata": {},
   "outputs": [
    {
     "data": {
      "text/plain": [
       "Pclass\n",
       "1    176\n",
       "2     16\n",
       "3     12\n",
       "dtype: int64"
      ]
     },
     "execution_count": 169,
     "metadata": {},
     "output_type": "execute_result"
    }
   ],
   "source": [
    "# Checked to see if 2nd and 3rd class passengers had cabins.\n",
    "train.groupby('Pclass').size() - train[train['Cabin'].isnull()].groupby('Pclass').size()"
   ]
  },
  {
   "cell_type": "code",
   "execution_count": 170,
   "metadata": {},
   "outputs": [],
   "source": [
    "# Replaced cabins with a cabin level. NaNs for level have 'n'. \n",
    "train['Cabin_Level'] = train['Cabin'].str[0].fillna('N')"
   ]
  },
  {
   "cell_type": "code",
   "execution_count": 171,
   "metadata": {},
   "outputs": [],
   "source": [
    "# According to Encyclopedia Titanica, both of the null passengers embarked at Southampton. \n",
    "# https://www.encyclopedia-titanica.org/titanic-survivor/amelia-icard.html\n",
    "train[train['Embarked'].isnull()] = train[train['Embarked'].isnull()].fillna('S')"
   ]
  },
  {
   "cell_type": "code",
   "execution_count": 172,
   "metadata": {
    "scrolled": true
   },
   "outputs": [],
   "source": [
    "# Next part is dealing with the missing ages. This comes from a Datacamp exercise.\n",
    "\n",
    "# Create a groupby object: by_sex_class\n",
    "by_sex_class = train.groupby(['Sex', 'Pclass'])\n",
    "\n",
    "# Write a function that imputes median\n",
    "def impute_median(series):\n",
    "    return series.fillna(series.median())\n",
    "\n",
    "# Impute age and assign to titanic['Age']\n",
    "train['Age'] = by_sex_class['Age'].transform(impute_median)\n"
   ]
  },
  {
   "cell_type": "code",
   "execution_count": 173,
   "metadata": {},
   "outputs": [
    {
     "data": {
      "text/plain": [
       "PassengerId      0\n",
       "Survived         0\n",
       "Pclass           0\n",
       "Name             0\n",
       "Sex              0\n",
       "Age              0\n",
       "SibSp            0\n",
       "Parch            0\n",
       "Ticket           0\n",
       "Fare             0\n",
       "Cabin          687\n",
       "Embarked         0\n",
       "Cabin_Level      0\n",
       "dtype: int64"
      ]
     },
     "execution_count": 173,
     "metadata": {},
     "output_type": "execute_result"
    }
   ],
   "source": [
    "# Sanity check to make sure all missing values are taken care of. Cabin won't be in any of the models, so we're good.\n",
    "train.isnull().sum()"
   ]
  },
  {
   "cell_type": "markdown",
   "metadata": {},
   "source": [
    "I am doing the same methods for testing that I did for training. Is this the right way to handle missing data for testing? Concerned about data leakage."
   ]
  },
  {
   "cell_type": "code",
   "execution_count": 174,
   "metadata": {},
   "outputs": [],
   "source": [
    "# Do all of the above for the test data set\n",
    "# Replaced cabins with a cabin level. NaNs for level have 'n'. \n",
    "test['Cabin_Level'] = test['Cabin'].str[0].fillna('N')\n",
    "\n",
    "# Create a groupby object: by_sex_class\n",
    "by_sex_class = test.groupby(['Sex', 'Pclass'])\n",
    "\n",
    "# Write a function that imputes median\n",
    "def impute_median(series):\n",
    "    return series.fillna(series.median())\n",
    "\n",
    "# Impute age and assign to titanic['Age']\n",
    "test['Age'] = by_sex_class['Age'].transform(impute_median)\n",
    "\n",
    "# Do the same thing for 'Fare' on test data\n",
    "test['Fare'] = by_sex_class['Fare'].transform(impute_median)"
   ]
  },
  {
   "cell_type": "code",
   "execution_count": 175,
   "metadata": {},
   "outputs": [
    {
     "data": {
      "text/plain": [
       "Cabin_Level\n",
       "A     15\n",
       "B     47\n",
       "C     59\n",
       "D     33\n",
       "E     32\n",
       "F     13\n",
       "G      4\n",
       "N    687\n",
       "T      1\n",
       "dtype: int64"
      ]
     },
     "execution_count": 175,
     "metadata": {},
     "output_type": "execute_result"
    }
   ],
   "source": [
    "train.groupby('Cabin_Level').size()\n"
   ]
  },
  {
   "cell_type": "code",
   "execution_count": 176,
   "metadata": {},
   "outputs": [],
   "source": [
    "# There is no deck 'T' on the Titanic, so replacing that with 'N':\n",
    "train[train['Cabin_Level'] == 'T'] = train[train['Cabin_Level'] == 'T'].replace('T', 'N')"
   ]
  },
  {
   "cell_type": "code",
   "execution_count": 177,
   "metadata": {},
   "outputs": [
    {
     "data": {
      "text/plain": [
       "Cabin_Level\n",
       "A     15\n",
       "B     47\n",
       "C     59\n",
       "D     33\n",
       "E     32\n",
       "F     13\n",
       "G      4\n",
       "N    688\n",
       "dtype: int64"
      ]
     },
     "execution_count": 177,
     "metadata": {},
     "output_type": "execute_result"
    }
   ],
   "source": [
    "train.groupby('Cabin_Level').size()"
   ]
  },
  {
   "cell_type": "code",
   "execution_count": 178,
   "metadata": {},
   "outputs": [],
   "source": [
    "# Dropping columns not needed in the model. \n",
    "X_train = train.drop(['Survived', 'PassengerId', 'Name', 'Cabin', 'Ticket'], 1) # 1 is to specify columns\n",
    "y_train = train['Survived']\n",
    "X_test = test.drop(['PassengerId', 'Cabin', 'Name', 'Ticket'], 1)\n"
   ]
  },
  {
   "cell_type": "code",
   "execution_count": 230,
   "metadata": {},
   "outputs": [
    {
     "name": "stdout",
     "output_type": "stream",
     "text": [
      "     Pclass   Age  SibSp  Parch      Fare  Sex_female  Sex_male  Embarked_C  \\\n",
      "0         3  22.0      1      0    7.2500           0         1           0   \n",
      "1         1  38.0      1      0   71.2833           1         0           1   \n",
      "2         3  26.0      0      0    7.9250           1         0           0   \n",
      "3         1  35.0      1      0   53.1000           1         0           0   \n",
      "4         3  35.0      0      0    8.0500           0         1           0   \n",
      "5         3  25.0      0      0    8.4583           0         1           0   \n",
      "6         1  54.0      0      0   51.8625           0         1           0   \n",
      "7         3   2.0      3      1   21.0750           0         1           0   \n",
      "8         3  27.0      0      2   11.1333           1         0           0   \n",
      "9         2  14.0      1      0   30.0708           1         0           1   \n",
      "10        3   4.0      1      1   16.7000           1         0           0   \n",
      "11        1  58.0      0      0   26.5500           1         0           0   \n",
      "12        3  20.0      0      0    8.0500           0         1           0   \n",
      "13        3  39.0      1      5   31.2750           0         1           0   \n",
      "14        3  14.0      0      0    7.8542           1         0           0   \n",
      "15        2  55.0      0      0   16.0000           1         0           0   \n",
      "16        3   2.0      4      1   29.1250           0         1           0   \n",
      "17        2  30.0      0      0   13.0000           0         1           0   \n",
      "18        3  31.0      1      0   18.0000           1         0           0   \n",
      "19        3  21.5      0      0    7.2250           1         0           1   \n",
      "20        2  35.0      0      0   26.0000           0         1           0   \n",
      "21        2  34.0      0      0   13.0000           0         1           0   \n",
      "22        3  15.0      0      0    8.0292           1         0           0   \n",
      "23        1  28.0      0      0   35.5000           0         1           0   \n",
      "24        3   8.0      3      1   21.0750           1         0           0   \n",
      "25        3  38.0      1      5   31.3875           1         0           0   \n",
      "26        3  25.0      0      0    7.2250           0         1           1   \n",
      "27        1  19.0      3      2  263.0000           0         1           0   \n",
      "28        3  21.5      0      0    7.8792           1         0           0   \n",
      "29        3  25.0      0      0    7.8958           0         1           0   \n",
      "..      ...   ...    ...    ...       ...         ...       ...         ...   \n",
      "861       2  21.0      1      0   11.5000           0         1           0   \n",
      "862       1  48.0      0      0   25.9292           1         0           0   \n",
      "863       3  21.5      8      2   69.5500           1         0           0   \n",
      "864       2  24.0      0      0   13.0000           0         1           0   \n",
      "865       2  42.0      0      0   13.0000           1         0           0   \n",
      "866       2  27.0      1      0   13.8583           1         0           1   \n",
      "867       1  31.0      0      0   50.4958           0         1           0   \n",
      "868       3  25.0      0      0    9.5000           0         1           0   \n",
      "869       3   4.0      1      1   11.1333           0         1           0   \n",
      "870       3  26.0      0      0    7.8958           0         1           0   \n",
      "871       1  47.0      1      1   52.5542           1         0           0   \n",
      "872       1  33.0      0      0    5.0000           0         1           0   \n",
      "873       3  47.0      0      0    9.0000           0         1           0   \n",
      "874       2  28.0      1      0   24.0000           1         0           1   \n",
      "875       3  15.0      0      0    7.2250           1         0           1   \n",
      "876       3  20.0      0      0    9.8458           0         1           0   \n",
      "877       3  19.0      0      0    7.8958           0         1           0   \n",
      "878       3  25.0      0      0    7.8958           0         1           0   \n",
      "879       1  56.0      0      1   83.1583           1         0           1   \n",
      "880       2  25.0      0      1   26.0000           1         0           0   \n",
      "881       3  33.0      0      0    7.8958           0         1           0   \n",
      "882       3  22.0      0      0   10.5167           1         0           0   \n",
      "883       2  28.0      0      0   10.5000           0         1           0   \n",
      "884       3  25.0      0      0    7.0500           0         1           0   \n",
      "885       3  39.0      0      5   29.1250           1         0           0   \n",
      "886       2  27.0      0      0   13.0000           0         1           0   \n",
      "887       1  19.0      0      0   30.0000           1         0           0   \n",
      "888       3  21.5      1      2   23.4500           1         0           0   \n",
      "889       1  26.0      0      0   30.0000           0         1           1   \n",
      "890       3  32.0      0      0    7.7500           0         1           0   \n",
      "\n",
      "     Embarked_Q  Embarked_S  Cabin_Level_A  Cabin_Level_B  Cabin_Level_C  \\\n",
      "0             0           1              0              0              0   \n",
      "1             0           0              0              0              1   \n",
      "2             0           1              0              0              0   \n",
      "3             0           1              0              0              1   \n",
      "4             0           1              0              0              0   \n",
      "5             1           0              0              0              0   \n",
      "6             0           1              0              0              0   \n",
      "7             0           1              0              0              0   \n",
      "8             0           1              0              0              0   \n",
      "9             0           0              0              0              0   \n",
      "10            0           1              0              0              0   \n",
      "11            0           1              0              0              1   \n",
      "12            0           1              0              0              0   \n",
      "13            0           1              0              0              0   \n",
      "14            0           1              0              0              0   \n",
      "15            0           1              0              0              0   \n",
      "16            1           0              0              0              0   \n",
      "17            0           1              0              0              0   \n",
      "18            0           1              0              0              0   \n",
      "19            0           0              0              0              0   \n",
      "20            0           1              0              0              0   \n",
      "21            0           1              0              0              0   \n",
      "22            1           0              0              0              0   \n",
      "23            0           1              1              0              0   \n",
      "24            0           1              0              0              0   \n",
      "25            0           1              0              0              0   \n",
      "26            0           0              0              0              0   \n",
      "27            0           1              0              0              1   \n",
      "28            1           0              0              0              0   \n",
      "29            0           1              0              0              0   \n",
      "..          ...         ...            ...            ...            ...   \n",
      "861           0           1              0              0              0   \n",
      "862           0           1              0              0              0   \n",
      "863           0           1              0              0              0   \n",
      "864           0           1              0              0              0   \n",
      "865           0           1              0              0              0   \n",
      "866           0           0              0              0              0   \n",
      "867           0           1              1              0              0   \n",
      "868           0           1              0              0              0   \n",
      "869           0           1              0              0              0   \n",
      "870           0           1              0              0              0   \n",
      "871           0           1              0              0              0   \n",
      "872           0           1              0              1              0   \n",
      "873           0           1              0              0              0   \n",
      "874           0           0              0              0              0   \n",
      "875           0           0              0              0              0   \n",
      "876           0           1              0              0              0   \n",
      "877           0           1              0              0              0   \n",
      "878           0           1              0              0              0   \n",
      "879           0           0              0              0              1   \n",
      "880           0           1              0              0              0   \n",
      "881           0           1              0              0              0   \n",
      "882           0           1              0              0              0   \n",
      "883           0           1              0              0              0   \n",
      "884           0           1              0              0              0   \n",
      "885           1           0              0              0              0   \n",
      "886           0           1              0              0              0   \n",
      "887           0           1              0              1              0   \n",
      "888           0           1              0              0              0   \n",
      "889           0           0              0              0              1   \n",
      "890           1           0              0              0              0   \n",
      "\n",
      "     Cabin_Level_D  Cabin_Level_E  Cabin_Level_F  Cabin_Level_G  Cabin_Level_N  \n",
      "0                0              0              0              0              1  \n",
      "1                0              0              0              0              0  \n",
      "2                0              0              0              0              1  \n",
      "3                0              0              0              0              0  \n",
      "4                0              0              0              0              1  \n",
      "5                0              0              0              0              1  \n",
      "6                0              1              0              0              0  \n",
      "7                0              0              0              0              1  \n",
      "8                0              0              0              0              1  \n",
      "9                0              0              0              0              1  \n",
      "10               0              0              0              1              0  \n",
      "11               0              0              0              0              0  \n",
      "12               0              0              0              0              1  \n",
      "13               0              0              0              0              1  \n",
      "14               0              0              0              0              1  \n",
      "15               0              0              0              0              1  \n",
      "16               0              0              0              0              1  \n",
      "17               0              0              0              0              1  \n",
      "18               0              0              0              0              1  \n",
      "19               0              0              0              0              1  \n",
      "20               0              0              0              0              1  \n",
      "21               1              0              0              0              0  \n",
      "22               0              0              0              0              1  \n",
      "23               0              0              0              0              0  \n",
      "24               0              0              0              0              1  \n",
      "25               0              0              0              0              1  \n",
      "26               0              0              0              0              1  \n",
      "27               0              0              0              0              0  \n",
      "28               0              0              0              0              1  \n",
      "29               0              0              0              0              1  \n",
      "..             ...            ...            ...            ...            ...  \n",
      "861              0              0              0              0              1  \n",
      "862              1              0              0              0              0  \n",
      "863              0              0              0              0              1  \n",
      "864              0              0              0              0              1  \n",
      "865              0              0              0              0              1  \n",
      "866              0              0              0              0              1  \n",
      "867              0              0              0              0              0  \n",
      "868              0              0              0              0              1  \n",
      "869              0              0              0              0              1  \n",
      "870              0              0              0              0              1  \n",
      "871              1              0              0              0              0  \n",
      "872              0              0              0              0              0  \n",
      "873              0              0              0              0              1  \n",
      "874              0              0              0              0              1  \n",
      "875              0              0              0              0              1  \n",
      "876              0              0              0              0              1  \n",
      "877              0              0              0              0              1  \n",
      "878              0              0              0              0              1  \n",
      "879              0              0              0              0              0  \n",
      "880              0              0              0              0              1  \n",
      "881              0              0              0              0              1  \n",
      "882              0              0              0              0              1  \n",
      "883              0              0              0              0              1  \n",
      "884              0              0              0              0              1  \n",
      "885              0              0              0              0              1  \n",
      "886              0              0              0              0              1  \n",
      "887              0              0              0              0              0  \n",
      "888              0              0              0              0              1  \n",
      "889              0              0              0              0              0  \n",
      "890              0              0              0              0              1  \n",
      "\n",
      "[891 rows x 18 columns]\n"
     ]
    }
   ],
   "source": [
    "# Fit and transform categorical variables to integers\n",
    "X_train = pd.get_dummies(X_train)\n",
    "X_test = pd.get_dummies(X_test)"
   ]
  },
  {
   "cell_type": "markdown",
   "metadata": {},
   "source": [
    "# TODO: Normalize columns"
   ]
  },
  {
   "cell_type": "code",
   "execution_count": 180,
   "metadata": {},
   "outputs": [],
   "source": [
    "# First model is logistic regression\n",
    "from sklearn.linear_model import LogisticRegression"
   ]
  },
  {
   "cell_type": "code",
   "execution_count": 181,
   "metadata": {},
   "outputs": [],
   "source": [
    "# Create the classifier: logreg\n",
    "logreg = LogisticRegression()"
   ]
  },
  {
   "cell_type": "code",
   "execution_count": 182,
   "metadata": {},
   "outputs": [
    {
     "data": {
      "text/plain": [
       "LogisticRegression(C=1.0, class_weight=None, dual=False, fit_intercept=True,\n",
       "          intercept_scaling=1, max_iter=100, multi_class='ovr', n_jobs=1,\n",
       "          penalty='l2', random_state=None, solver='liblinear', tol=0.0001,\n",
       "          verbose=0, warm_start=False)"
      ]
     },
     "execution_count": 182,
     "metadata": {},
     "output_type": "execute_result"
    }
   ],
   "source": [
    "# Fit the classifier to the training data\n",
    "logreg.fit(X_train, y_train)"
   ]
  },
  {
   "cell_type": "code",
   "execution_count": 204,
   "metadata": {},
   "outputs": [],
   "source": [
    "# Predict the labels of the test set: y_pred\n",
    "y_pred = logreg.predict(X_test)"
   ]
  },
  {
   "cell_type": "code",
   "execution_count": 225,
   "metadata": {},
   "outputs": [],
   "source": [
    "Submission = pd.DataFrame([test['PassengerId'], y_pred]).transpose()"
   ]
  },
  {
   "cell_type": "code",
   "execution_count": 229,
   "metadata": {},
   "outputs": [],
   "source": [
    "# Save file to CSV\n",
    "Submission.to_csv(\"C:\\\\Users\\\\Tom\\\\Documents\\\\Titanic\\\\Submission.csv\")"
   ]
  },
  {
   "cell_type": "code",
   "execution_count": null,
   "metadata": {},
   "outputs": [],
   "source": []
  }
 ],
 "metadata": {
  "kernelspec": {
   "display_name": "Python 3",
   "language": "python",
   "name": "python3"
  },
  "language_info": {
   "codemirror_mode": {
    "name": "ipython",
    "version": 3
   },
   "file_extension": ".py",
   "mimetype": "text/x-python",
   "name": "python",
   "nbconvert_exporter": "python",
   "pygments_lexer": "ipython3",
   "version": "3.6.3"
  }
 },
 "nbformat": 4,
 "nbformat_minor": 2
}
