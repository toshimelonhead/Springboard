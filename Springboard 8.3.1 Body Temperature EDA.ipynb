{
 "cells": [
  {
   "cell_type": "markdown",
   "metadata": {},
   "source": [
    "# What is the True Normal Human Body Temperature? \n",
    "\n",
    "#### Background\n",
    "\n",
    "The mean normal body temperature was held to be 37$^{\\circ}$C or 98.6$^{\\circ}$F for more than 120 years since it was first conceptualized and reported by Carl Wunderlich in a famous 1868 book. But, is this value statistically correct?"
   ]
  },
  {
   "cell_type": "markdown",
   "metadata": {},
   "source": [
    "<h3>Exercises</h3>\n",
    "\n",
    "<p>In this exercise, you will analyze a dataset of human body temperatures and employ the concepts of hypothesis testing, confidence intervals, and statistical significance.</p>\n",
    "\n",
    "<p>Answer the following questions <b>in this notebook below and submit to your Github account</b>.</p> \n",
    "\n",
    "<ol>\n",
    "<li>  Is the distribution of body temperatures normal? \n",
    "    <ul>\n",
    "    <li> Although this is not a requirement for the Central Limit Theorem to hold (read the introduction on Wikipedia's page about the CLT carefully: https://en.wikipedia.org/wiki/Central_limit_theorem), it gives us some peace of mind that the population may also be normally distributed if we assume that this sample is representative of the population.\n",
    "    <li> Think about the way you're going to check for the normality of the distribution. Graphical methods are usually used first, but there are also other ways: https://en.wikipedia.org/wiki/Normality_test\n",
    "    </ul>\n",
    "<li>  Is the sample size large? Are the observations independent?\n",
    "    <ul>\n",
    "    <li> Remember that this is a condition for the Central Limit Theorem, and hence the statistical tests we are using, to apply.\n",
    "    </ul>\n",
    "<li>  Is the true population mean really 98.6 degrees F?\n",
    "    <ul>\n",
    "    <li> First, try a bootstrap hypothesis test.\n",
    "    <li> Now, let's try frequentist statistical testing. Would you use a one-sample or two-sample test? Why?\n",
    "    <li> In this situation, is it appropriate to use the $t$ or $z$ statistic? \n",
    "    <li> Now try using the other test. How is the result be different? Why?\n",
    "    </ul>\n",
    "<li>  Draw a small sample of size 10 from the data and repeat both frequentist tests. \n",
    "    <ul>\n",
    "    <li> Which one is the correct one to use? \n",
    "    <li> What do you notice? What does this tell you about the difference in application of the $t$ and $z$ statistic?\n",
    "    </ul>\n",
    "<li>  At what temperature should we consider someone's temperature to be \"abnormal\"?\n",
    "    <ul>\n",
    "    <li> As in the previous example, try calculating everything using the boostrap approach, as well as the frequentist approach.\n",
    "    <li> Start by computing the margin of error and confidence interval. When calculating the confidence interval, keep in mind that you should use the appropriate formula for one draw, and not N draws.\n",
    "    </ul>\n",
    "<li>  Is there a significant difference between males and females in normal temperature?\n",
    "    <ul>\n",
    "    <li> What testing approach did you use and why?\n",
    "    <li> Write a story with your conclusion in the context of the original problem.\n",
    "    </ul>\n",
    "</ol>\n",
    "\n",
    "You can include written notes in notebook cells using Markdown: \n",
    "   - In the control panel at the top, choose Cell > Cell Type > Markdown\n",
    "   - Markdown syntax: http://nestacms.com/docs/creating-content/markdown-cheat-sheet\n",
    "\n",
    "#### Resources\n",
    "\n",
    "+ Information and data sources: http://www.amstat.org/publications/jse/datasets/normtemp.txt, http://www.amstat.org/publications/jse/jse_data_archive.htm\n",
    "+ Markdown syntax: http://nestacms.com/docs/creating-content/markdown-cheat-sheet\n",
    "\n",
    "****"
   ]
  },
  {
   "cell_type": "code",
   "execution_count": 3,
   "metadata": {},
   "outputs": [],
   "source": [
    "import numpy as np\n",
    "import pandas as pd\n",
    "import matplotlib.pyplot as plt\n",
    "import statsmodels as sm\n",
    "import random #sampling\n",
    "from statsmodels.stats import weightstats #z-test\n",
    "from scipy import stats\n",
    "\n",
    "df = pd.read_csv('data/human_body_temperature.csv')"
   ]
  },
  {
   "cell_type": "code",
   "execution_count": 3,
   "metadata": {},
   "outputs": [],
   "source": [
    "#df.head(15)"
   ]
  },
  {
   "cell_type": "markdown",
   "metadata": {},
   "source": [
    "### 1.) Is the distribution of body temperatures normal? First check is to plot a histogram of temperature."
   ]
  },
  {
   "cell_type": "code",
   "execution_count": 4,
   "metadata": {},
   "outputs": [
    {
     "data": {
      "image/png": "[encoded data removed]",
      "text/plain": [
       "<Figure size 432x288 with 1 Axes>"
      ]
     },
     "metadata": {},
     "output_type": "display_data"
    }
   ],
   "source": [
    "plt.hist(df['temperature'], bins=20)\n",
    "plt.xlabel('Body Temperature')\n",
    "plt.ylabel('Count')\n",
    "plt.title('Distribution of Body Temperature')\n",
    "plt.axvline(98.6, color='r', linestyle='dashed', linewidth=2) #plot where 98.6 degrees is\n",
    "plt.show()"
   ]
  },
  {
   "cell_type": "code",
   "execution_count": 5,
   "metadata": {},
   "outputs": [
    {
     "name": "stdout",
     "output_type": "stream",
     "text": [
      "Mean:  98.24923076923078\n",
      "Standard Deviation:  0.7303577789050377\n"
     ]
    }
   ],
   "source": [
    "# Also including quick summary statistics.\n",
    "print(\"Mean: \", np.mean(df['temperature']))\n",
    "print(\"Standard Deviation: \", np.std(df['temperature']))"
   ]
  },
  {
   "cell_type": "code",
   "execution_count": 6,
   "metadata": {},
   "outputs": [],
   "source": [
    "### TODO: Other checks for normality"
   ]
  },
  {
   "cell_type": "markdown",
   "metadata": {},
   "source": [
    "### 2A.) Is the sample size large?"
   ]
  },
  {
   "cell_type": "code",
   "execution_count": 7,
   "metadata": {},
   "outputs": [
    {
     "name": "stdout",
     "output_type": "stream",
     "text": [
      "130\n"
     ]
    }
   ],
   "source": [
    "# Is sample size large?\n",
    "print(df.shape[0]) #Yes"
   ]
  },
  {
   "cell_type": "markdown",
   "metadata": {},
   "source": [
    "### 2B.) Are the observations independent?"
   ]
  },
  {
   "cell_type": "code",
   "execution_count": 8,
   "metadata": {},
   "outputs": [],
   "source": [
    "### TODO: Check for independence\n",
    "# Sample size is less than 10 percent of population (all humans) and subjects were assigned randomly"
   ]
  },
  {
   "cell_type": "markdown",
   "metadata": {},
   "source": [
    "### 3.) Is the true population mean really 98.6 degrees F?"
   ]
  },
  {
   "cell_type": "markdown",
   "metadata": {},
   "source": [
    "### 3A.) Bootstrap test"
   ]
  },
  {
   "cell_type": "code",
   "execution_count": 9,
   "metadata": {},
   "outputs": [
    {
     "name": "stderr",
     "output_type": "stream",
     "text": [
      "C:\\Users\\Tom\\Miniconda3\\lib\\site-packages\\matplotlib\\axes\\_axes.py:6462: UserWarning: The 'normed' kwarg is deprecated, and has been replaced by the 'density' kwarg.\n",
      "  warnings.warn(\"The 'normed' kwarg is deprecated, and has been \"\n"
     ]
    },
    {
     "data": {
      "image/png": "[encoded data removed]",
      "text/plain": [
       "<Figure size 432x288 with 1 Axes>"
      ]
     },
     "metadata": {},
     "output_type": "display_data"
    }
   ],
   "source": [
    "# Following comes from Datacamp Statistical Thinking in Python Part 2 Exercise 2\n",
    "def bootstrap_replicate_1d(data, func):\n",
    "    return func(np.random.choice(data, size=len(data)))\n",
    "\n",
    "def draw_bs_reps(data, func, size=1):\n",
    "    \"\"\"Draw bootstrap replicates.\"\"\"\n",
    "\n",
    "    # Initialize array of replicates: bs_replicates\n",
    "    bs_replicates = np.empty(size)\n",
    "\n",
    "    # Generate replicates\n",
    "    for i in range(size):\n",
    "        bs_replicates[i] = bootstrap_replicate_1d(data, func)\n",
    "\n",
    "    return bs_replicates\n",
    "\n",
    "# Take 10,000 bootstrap replicates of the mean: bs_replicates\n",
    "bs_replicates = draw_bs_reps(df['temperature'], np.mean, 10000)\n",
    "\n",
    "# Compute SEM\n",
    "sem = np.std(df['temperature']) / np.sqrt(len(df['temperature']))\n",
    "\n",
    "# Compute standard deviation of bootstrap replicates\n",
    "bs_std = np.std(bs_replicates)\n",
    "\n",
    "# Make a histogram of the results\n",
    "_ = plt.hist(bs_replicates, bins=50, normed=True)\n",
    "_ = plt.xlabel('Mean body temperature (F)')\n",
    "_ = plt.ylabel('PDF')\n",
    "\n",
    "# Show the plot\n",
    "plt.axvline(98.6, color='r', linestyle='dashed', linewidth=2) #plot where 98.6 degrees is\n",
    "plt.show()\n",
    "\n"
   ]
  },
  {
   "cell_type": "markdown",
   "metadata": {},
   "source": [
    "### 3B.) Now, let's try frequentist statistical testing. Would you use a one-sample or two-sample test? Why?"
   ]
  },
  {
   "cell_type": "raw",
   "metadata": {},
   "source": [
    "We are testing whether the true population mean is really 98.6 degrees F. This is a one sample test because we are testing whether the sample invalidates our hypothesis that the mean human body temperature is 98.6 degrees."
   ]
  },
  {
   "cell_type": "markdown",
   "metadata": {},
   "source": [
    "### 3C.) In this situation, is it appropriate to use the t or z statistic?"
   ]
  },
  {
   "cell_type": "raw",
   "metadata": {},
   "source": [
    "We are going to use a t statistic first because we do not know the population standard deviation. I am suspecting that the sample size is large enough to where it's not going to make a huge difference as to what test we use, though. "
   ]
  },
  {
   "cell_type": "raw",
   "metadata": {},
   "source": [
    "The null hypothesis is that the true population mean is 98.6 degrees F. The alternative hypothesisis is that the true population mean is less than 98.6 degrees F. It doesn't make sense to go two-sided because we calculated the sample mean as less than 98.6 degrees."
   ]
  },
  {
   "cell_type": "code",
   "execution_count": 10,
   "metadata": {},
   "outputs": [
    {
     "name": "stdout",
     "output_type": "stream",
     "text": [
      "T-Statistic: -5.4548232923645195\n",
      "P-value: 2.4106320415561276e-07\n"
     ]
    }
   ],
   "source": [
    "print(\"T-Statistic:\", stats.ttest_1samp(df.temperature, 98.6)[0])\n",
    "print(\"P-value:\", stats.ttest_1samp(df.temperature, 98.6)[1])"
   ]
  },
  {
   "cell_type": "raw",
   "metadata": {},
   "source": [
    "So our t-statistic is -5.45 and our p-value is almost zero. Therefore, we can reject the null hypothesis that the mean human body temperature is 98.6 degrees F."
   ]
  },
  {
   "cell_type": "markdown",
   "metadata": {},
   "source": [
    "### 3D.) Now try using the other test. How is the result different? Why?"
   ]
  },
  {
   "cell_type": "code",
   "execution_count": 11,
   "metadata": {},
   "outputs": [
    {
     "name": "stdout",
     "output_type": "stream",
     "text": [
      "Z-Statistic: -5.4548232923645195\n",
      "P-Value:  4.9021570141012155e-08\n"
     ]
    }
   ],
   "source": [
    "print(\"Z-Statistic:\", sm.stats.weightstats.ztest(df.temperature, value=98.6)[0])\n",
    "print(\"P-Value: \", sm.stats.weightstats.ztest(df.temperature, value=98.6)[1])"
   ]
  },
  {
   "cell_type": "raw",
   "metadata": {},
   "source": [
    "The only difference here is the tails on the t-distribution are wider. In that case, that means the probability for the z-test must be smaller."
   ]
  },
  {
   "cell_type": "markdown",
   "metadata": {},
   "source": [
    "### 4.) Draw a small sample of size 10 from the data and repeat both frequentist tests."
   ]
  },
  {
   "cell_type": "code",
   "execution_count": 12,
   "metadata": {},
   "outputs": [
    {
     "name": "stdout",
     "output_type": "stream",
     "text": [
      "Z-Statistic: -1.652112314869085\n",
      "P-Value:  0.09851165695614349\n",
      "T-Statistic: -1.652112314869085\n",
      "P-value: 0.1329043308380879\n"
     ]
    }
   ],
   "source": [
    "random_sample = random.sample(list(df['temperature']), 10)\n",
    "\n",
    "print(\"Z-Statistic:\", sm.stats.weightstats.ztest(random_sample, value=98.6)[0])\n",
    "print(\"P-Value: \", sm.stats.weightstats.ztest(random_sample, value=98.6)[1])\n",
    "print(\"T-Statistic:\", stats.ttest_1samp(random_sample, 98.6)[0])\n",
    "print(\"P-value:\", stats.ttest_1samp(random_sample, 98.6)[1])"
   ]
  },
  {
   "cell_type": "markdown",
   "metadata": {},
   "source": [
    "### 4A.) Which one is the correct one to use?"
   ]
  },
  {
   "cell_type": "raw",
   "metadata": {},
   "source": [
    "The t-statistic is the correct metric because the sample size is under 30 and the population standard deviation is unknown."
   ]
  },
  {
   "cell_type": "markdown",
   "metadata": {},
   "source": [
    "### 4B.) What do you notice? What does this tell you about the difference in application of the t and z statistic?"
   ]
  },
  {
   "cell_type": "raw",
   "metadata": {},
   "source": [
    "The p-value for the t-statistic is higher (~8% vs ~5%) because the t-distribution has fatter tails. This is because as the sample size increases, the means become normally distributed. A sample size of 10 has more variability in its sample mean than a larger sample size."
   ]
  },
  {
   "cell_type": "markdown",
   "metadata": {},
   "source": [
    "### 5.) At what temperature should we consider someone's temperature to be \"abnormal\"?\n"
   ]
  },
  {
   "cell_type": "code",
   "execution_count": 13,
   "metadata": {},
   "outputs": [],
   "source": [
    "#As in the previous example, try calculating everything using the boostrap approach, as well as the frequentist approach.\n",
    "#Start by computing the margin of error and confidence interval. When calculating the confidence interval, keep in mind that you should use the appropriate formula for one draw, and not N draws.\n"
   ]
  },
  {
   "cell_type": "code",
   "execution_count": 18,
   "metadata": {},
   "outputs": [
    {
     "name": "stdout",
     "output_type": "stream",
     "text": [
      "Less than 98.12 or greater than 98.37 degrees.\n"
     ]
    }
   ],
   "source": [
    "# Start by computing the margin of error and confidence interval.\n",
    "\n",
    "# We already have what we need from bootstrapping from problem 3. \n",
    "# Now it's just taking the 2.5%ile and 97.5%ile of the bootstrapped sample and we're good to go.\n",
    "\n",
    "print(\"Less than\" , round(np.percentile(bs_replicates, [2.5])[0], 2) , \"or greater than\" , round(np.percentile(bs_replicates, [97.5])[0], 2) , \"degrees.\")"
   ]
  },
  {
   "cell_type": "code",
   "execution_count": 7,
   "metadata": {},
   "outputs": [
    {
     "name": "stdout",
     "output_type": "stream",
     "text": [
      "Less than 96.8 or greater than 99.69 degrees.\n"
     ]
    }
   ],
   "source": [
    "# Margin of error\n",
    "upper_bound = round(np.mean(df['temperature']) + stats.t.ppf(1-0.025, 129) * np.std(df['temperature']), 2)\n",
    "lower_bound = round(np.mean(df['temperature']) - stats.t.ppf(1-0.025, 129) * np.std(df['temperature']), 2)\n",
    "print(\"Less than\" , lower_bound , \"or greater than\" , upper_bound , \"degrees.\")"
   ]
  },
  {
   "cell_type": "markdown",
   "metadata": {},
   "source": [
    "### 6.) Is there a significant difference between males and females in normal temperature?\n"
   ]
  },
  {
   "cell_type": "code",
   "execution_count": 9,
   "metadata": {},
   "outputs": [
    {
     "name": "stdout",
     "output_type": "stream",
     "text": [
      "T-Statistic:  -2.2854345381656103\n",
      "P-value:  0.02393188312239561\n",
      "Male mean temp:  98.1046153846154\n",
      "Female mean temp:  98.39384615384613\n"
     ]
    }
   ],
   "source": [
    "### What testing approach did you use and why?\n",
    "\n",
    "# This requires a two-sample ttest. Our null hypothesis will be that there is no difference in temperature between the genders.\n",
    "# Significance level will be .05\n",
    "\n",
    "male_data = df[df['gender']=='M']\n",
    "female_data = df[df['gender']=='F']\n",
    "print(\"T-Statistic: \", stats.ttest_ind(male_data.temperature, female_data.temperature)[0])\n",
    "print(\"P-value: \", stats.ttest_ind(male_data.temperature, female_data.temperature)[1])\n",
    "print(\"Male mean temp: \", np.mean(male_data.temperature))\n",
    "print(\"Female mean temp: \", np.mean(female_data.temperature))"
   ]
  },
  {
   "cell_type": "raw",
   "metadata": {},
   "source": [
    "The p-value of ~.02 is lower than our significance level of .05, meaning we can reject the null hypothesis that there is no significant difference in body temperature between genders. "
   ]
  },
  {
   "cell_type": "code",
   "execution_count": 16,
   "metadata": {},
   "outputs": [],
   "source": [
    "### Write a story with your conclusion in the context of the original problem."
   ]
  },
  {
   "cell_type": "raw",
   "metadata": {},
   "source": [
    "Females are likely to have a higher body temperature. According to a statistical study, the average female's body temperature is .2 degrees higher than it is for men."
   ]
  }
 ],
 "metadata": {
  "kernelspec": {
   "display_name": "Python 3",
   "language": "python",
   "name": "python3"
  },
  "language_info": {
   "codemirror_mode": {
    "name": "ipython",
    "version": 3
   },
   "file_extension": ".py",
   "mimetype": "text/x-python",
   "name": "python",
   "nbconvert_exporter": "python",
   "pygments_lexer": "ipython3",
   "version": "3.6.3"
  }
 },
 "nbformat": 4,
 "nbformat_minor": 1
}
